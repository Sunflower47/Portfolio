{
  "nbformat": 4,
  "nbformat_minor": 0,
  "metadata": {
    "colab": {
      "provenance": [],
      "collapsed_sections": [],
      "authorship_tag": "ABX9TyM+0awFvhvR81B50+RqdcKP",
      "include_colab_link": true
    },
    "kernelspec": {
      "name": "python3",
      "display_name": "Python 3"
    }
  },
  "cells": [
    {
      "cell_type": "markdown",
      "metadata": {
        "id": "view-in-github",
        "colab_type": "text"
      },
      "source": [
        "<a href=\"https://colab.research.google.com/github/Sunflower47/Portfolio/blob/main/hist.ipynb\" target=\"_parent\"><img src=\"https://colab.research.google.com/assets/colab-badge.svg\" alt=\"Open In Colab\"/></a>"
      ]
    },
    {
      "cell_type": "markdown",
      "source": [
        "#Задание"
      ],
      "metadata": {
        "id": "Jskhm8fzJekT"
      }
    },
    {
      "cell_type": "markdown",
      "source": [
        "Построить гистограмму собственных значений случайно сгенерированной матрицы"
      ],
      "metadata": {
        "id": "fMqFTxwXJhX8"
      }
    },
    {
      "cell_type": "markdown",
      "source": [
        "#Код"
      ],
      "metadata": {
        "id": "JvGSonuuJt9v"
      }
    },
    {
      "cell_type": "markdown",
      "source": [
        "##Импорт библиотек"
      ],
      "metadata": {
        "id": "nb3dSdj-Jxiy"
      }
    },
    {
      "cell_type": "code",
      "metadata": {
        "id": "e1tk4vRR-GRv"
      },
      "source": [
        "import numpy as np\n",
        "import matplotlib.pyplot as plt"
      ],
      "execution_count": 2,
      "outputs": []
    },
    {
      "cell_type": "markdown",
      "source": [
        "##Генерация симметричной матрицы"
      ],
      "metadata": {
        "id": "JS2NhByTJ1l_"
      }
    },
    {
      "cell_type": "code",
      "metadata": {
        "id": "Ru7XDkdF-NQB"
      },
      "source": [
        "n = 1000\n",
        "a = np.random.normal(0, 1, (n , n))\n",
        "a = a + a.T"
      ],
      "execution_count": 3,
      "outputs": []
    },
    {
      "cell_type": "markdown",
      "source": [
        "##Построение гистограммы"
      ],
      "metadata": {
        "id": "7QAn6R4xJ6pW"
      }
    },
    {
      "cell_type": "code",
      "metadata": {
        "id": "DAPqJ8H4-Rgx",
        "colab": {
          "base_uri": "https://localhost:8080/",
          "height": 352
        },
        "outputId": "cf3f5a76-0e6c-4df7-879b-ae24b83fd220"
      },
      "source": [
        "s = np.linalg.eigvalsh(a)\n",
        "plt.hist(s)"
      ],
      "execution_count": 4,
      "outputs": [
        {
          "output_type": "execute_result",
          "data": {
            "text/plain": [
              "(array([ 52.,  88., 108., 121., 124., 126., 119., 112.,  91.,  59.]),\n",
              " array([-89.68659986, -71.95251406, -54.21842826, -36.48434246,\n",
              "        -18.75025665,  -1.01617085,  16.71791495,  34.45200075,\n",
              "         52.18608655,  69.92017236,  87.65425816]),\n",
              " <a list of 10 Patch objects>)"
            ]
          },
          "metadata": {},
          "execution_count": 4
        },
        {
          "output_type": "display_data",
          "data": {
            "text/plain": [
              "<Figure size 432x288 with 1 Axes>"
            ],
            "image/png": "[encoded data removed]"
          },
          "metadata": {
            "needs_background": "light"
          }
        }
      ]
    }
  ]
}