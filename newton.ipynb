{
  "nbformat": 4,
  "nbformat_minor": 0,
  "metadata": {
    "colab": {
      "provenance": [],
      "authorship_tag": "ABX9TyPmA91oOG7hyCbpwC8vgsGi",
      "include_colab_link": true
    },
    "kernelspec": {
      "name": "python3",
      "display_name": "Python 3"
    }
  },
  "cells": [
    {
      "cell_type": "markdown",
      "metadata": {
        "id": "view-in-github",
        "colab_type": "text"
      },
      "source": [
        "<a href=\"https://colab.research.google.com/github/Sunflower47/Portfolio/blob/main/newton.ipynb\" target=\"_parent\"><img src=\"https://colab.research.google.com/assets/colab-badge.svg\" alt=\"Open In Colab\"/></a>"
      ]
    },
    {
      "cell_type": "markdown",
      "source": [
        "#Задание"
      ],
      "metadata": {
        "id": "1Po2dBzoRVa2"
      }
    },
    {
      "cell_type": "markdown",
      "source": [
        "Реализовать алгоритм Ньютона"
      ],
      "metadata": {
        "id": "0HVIq4ZcRYDj"
      }
    },
    {
      "cell_type": "markdown",
      "source": [
        "#Код"
      ],
      "metadata": {
        "id": "9611UUEWReD4"
      }
    },
    {
      "cell_type": "markdown",
      "source": [
        "##Импорт библиотек"
      ],
      "metadata": {
        "id": "zMMgo8fMRhES"
      }
    },
    {
      "cell_type": "code",
      "metadata": {
        "id": "sl4R3F1wIakB"
      },
      "source": [
        "import numpy as np\n",
        "import matplotlib.pyplot as plt\n",
        "import math"
      ],
      "execution_count": null,
      "outputs": []
    },
    {
      "cell_type": "markdown",
      "source": [
        "##Задание функции и ее производной"
      ],
      "metadata": {
        "id": "Z0te-Pf2Ri_F"
      }
    },
    {
      "cell_type": "code",
      "metadata": {
        "id": "kOdV8uhPIfvp"
      },
      "source": [
        "def function(x):\n",
        "  return x**2 - 1 \n",
        "def der(x):\n",
        "  return 2*x- 1 \n"
      ],
      "execution_count": null,
      "outputs": []
    },
    {
      "cell_type": "markdown",
      "source": [
        "##Реализация алгоритма"
      ],
      "metadata": {
        "id": "V4OIIR8gRmYr"
      }
    },
    {
      "cell_type": "code",
      "metadata": {
        "id": "uGBD2k9lJY3Y"
      },
      "source": [
        "def newton_iteration(x0, eps = 1e-5, maxiter = 1000):\n",
        "  x = x0\n",
        "  x1 = x - function(x)/der(x)\n",
        "  while abs((x1 - x)/x) > eps:\n",
        "    x = x1\n",
        "    x1 = x - function(x)/der(x)\n",
        "\n",
        "  return x1"
      ],
      "execution_count": null,
      "outputs": []
    },
    {
      "cell_type": "markdown",
      "source": [
        "##Проверка"
      ],
      "metadata": {
        "id": "qyalJm45Ro95"
      }
    },
    {
      "cell_type": "code",
      "metadata": {
        "colab": {
          "base_uri": "https://localhost:8080/"
        },
        "id": "8dDb5C_CKtUX",
        "outputId": "64d55e47-e4ef-459d-c21c-78717ab90161"
      },
      "source": [
        "newton_iteration(-2)"
      ],
      "execution_count": null,
      "outputs": [
        {
          "output_type": "execute_result",
          "data": {
            "text/plain": [
              "-1.0000026733954512"
            ]
          },
          "metadata": {
            "tags": []
          },
          "execution_count": 12
        }
      ]
    }
  ]
}