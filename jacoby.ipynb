{
  "nbformat": 4,
  "nbformat_minor": 0,
  "metadata": {
    "colab": {
      "provenance": [],
      "authorship_tag": "ABX9TyPWw8AWuRQmOnVzqKKLRtwu",
      "include_colab_link": true
    },
    "kernelspec": {
      "name": "python3",
      "display_name": "Python 3"
    }
  },
  "cells": [
    {
      "cell_type": "markdown",
      "metadata": {
        "id": "view-in-github",
        "colab_type": "text"
      },
      "source": [
        "<a href=\"https://colab.research.google.com/github/Sunflower47/Portfolio/blob/main/jacoby.ipynb\" target=\"_parent\"><img src=\"https://colab.research.google.com/assets/colab-badge.svg\" alt=\"Open In Colab\"/></a>"
      ]
    },
    {
      "cell_type": "markdown",
      "source": [
        "#Задание"
      ],
      "metadata": {
        "id": "QKkH4CwbSslv"
      }
    },
    {
      "cell_type": "markdown",
      "source": [
        "Реализовать метод Якоби"
      ],
      "metadata": {
        "id": "P2S5CET0SuKn"
      }
    },
    {
      "cell_type": "markdown",
      "source": [
        "#Код"
      ],
      "metadata": {
        "id": "P1wQ8jMXSxA_"
      }
    },
    {
      "cell_type": "markdown",
      "source": [
        "##Импорт библиотек"
      ],
      "metadata": {
        "id": "iWOBjYceSyCg"
      }
    },
    {
      "cell_type": "code",
      "metadata": {
        "id": "BC6Vd48YHGlu"
      },
      "source": [
        "import numpy as np\n",
        "import matplotlib.pyplot as plt\n",
        "import math"
      ],
      "execution_count": null,
      "outputs": []
    },
    {
      "cell_type": "markdown",
      "source": [
        "##Реализация алгоритма"
      ],
      "metadata": {
        "id": "mx1XIN3KS1r0"
      }
    },
    {
      "cell_type": "code",
      "metadata": {
        "id": "kWpUZvkCHM0E"
      },
      "source": [
        "rnd = np.random.RandomState(1234)\n",
        "n = 10\n",
        "A = rnd.uniform(size=(n, n)) + np.diag([15]*n)\n",
        "b = rnd.uniform(size=n)"
      ],
      "execution_count": null,
      "outputs": []
    },
    {
      "cell_type": "code",
      "metadata": {
        "id": "LLVl-KprHsl8"
      },
      "source": [
        "D = np.diag(np.diag(A))\n",
        "B = np.linalg.inv(D)@(D - A)\n",
        "c = np.linalg.inv(D)@b\n",
        "y = np.linalg.inv(A)@b"
      ],
      "execution_count": null,
      "outputs": []
    },
    {
      "cell_type": "code",
      "metadata": {
        "colab": {
          "base_uri": "https://localhost:8080/"
        },
        "id": "ouSMB6mpIAzq",
        "outputId": "a4c63279-7711-4e73-a698-a4d0a27aa8e7"
      },
      "source": [
        "x = np.ones(len(A))\n",
        "while np.linalg.norm(A@x - b, ord=2) >= 10**-8:\n",
        "  x = B@x + c\n",
        "\n",
        "print(x)\n",
        "print(y)"
      ],
      "execution_count": null,
      "outputs": [
        {
          "output_type": "stream",
          "text": [
            "[ 0.03919429  0.03780037  0.04283232  0.02365951  0.05745031 -0.00030244\n",
            " -0.00577279  0.03177549 -0.00422849  0.05284648]\n",
            "[ 0.03919429  0.03780037  0.04283232  0.02365951  0.05745031 -0.00030244\n",
            " -0.00577279  0.03177549 -0.00422849  0.05284648]\n"
          ],
          "name": "stdout"
        }
      ]
    }
  ]
}