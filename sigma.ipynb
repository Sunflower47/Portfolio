{
  "cells": [
    {
      "cell_type": "markdown",
      "metadata": {
        "id": "view-in-github",
        "colab_type": "text"
      },
      "source": [
        "<a href=\"https://colab.research.google.com/github/Sunflower47/Portfolio/blob/main/sigma.ipynb\" target=\"_parent\"><img src=\"https://colab.research.google.com/assets/colab-badge.svg\" alt=\"Open In Colab\"/></a>"
      ]
    },
    {
      "cell_type": "markdown",
      "source": [
        "#Задание"
      ],
      "metadata": {
        "id": "g_mhyoQNKX_i"
      }
    },
    {
      "cell_type": "markdown",
      "source": [
        "Найти спектр матрицы. σ<sub>ϵ</sub> является множеством z, где z - собственные значения A + δA такое с некоторым ||A|| < ϵ. Найти σ<sub>0.1</sub>, σ<sub>0.01</sub>."
      ],
      "metadata": {
        "id": "XLv356EBMTDX"
      }
    },
    {
      "cell_type": "markdown",
      "source": [
        "#Код"
      ],
      "metadata": {
        "id": "mrOmLD1vMMzX"
      }
    },
    {
      "cell_type": "markdown",
      "source": [
        "##Импорт библиотек"
      ],
      "metadata": {
        "id": "xWOjyYEiNREq"
      }
    },
    {
      "cell_type": "code",
      "execution_count": null,
      "metadata": {
        "id": "wdC8GGt_RJhy"
      },
      "outputs": [],
      "source": [
        "import numpy as np\n",
        "import matplotlib.pyplot as plt"
      ]
    },
    {
      "cell_type": "markdown",
      "source": [
        "##Задание матрицы и поиск спектра"
      ],
      "metadata": {
        "id": "8onYTzthNVCi"
      }
    },
    {
      "cell_type": "code",
      "execution_count": null,
      "metadata": {
        "colab": {
          "base_uri": "https://localhost:8080/"
        },
        "id": "NhZo_Hw5Rcb5",
        "outputId": "85c749a6-50ac-436c-9b71-8d07a4e86763"
      },
      "outputs": [
        {
          "name": "stdout",
          "output_type": "stream",
          "text": [
            "[0. 0.]\n"
          ]
        }
      ],
      "source": [
        "a = np.array([[0, 1], [0, 0]])\n",
        "spectrum = np.linalg.eigvalsh(a)\n",
        "print(spectrum)"
      ]
    },
    {
      "cell_type": "markdown",
      "source": [
        "##Построение σ<sub>0.1</sub>"
      ],
      "metadata": {
        "id": "ywi7z86FNYRq"
      }
    },
    {
      "cell_type": "code",
      "execution_count": null,
      "metadata": {
        "colab": {
          "base_uri": "https://localhost:8080/",
          "height": 281
        },
        "id": "7lDUJnniR1ij",
        "outputId": "69850658-312f-4f77-c931-f3a2638d0974"
      },
      "outputs": [
        {
          "data": {
            "text/plain": [
              "<matplotlib.collections.PathCollection at 0x7f5233248c50>"
            ]
          },
          "execution_count": 34,
          "metadata": {
            "tags": []
          },
          "output_type": "execute_result"
        },
        {
          "data": {
            "image/png": "[encoded data removed]",
            "text/plain": [
              "<Figure size 432x288 with 1 Axes>"
            ]
          },
          "metadata": {
            "tags": []
          },
          "output_type": "display_data"
        }
      ],
      "source": [
        "epsilon = 0.1\n",
        "x = []\n",
        "y = []\n",
        "for i in np.arange(-1.0, 1.0, 0.01):\n",
        "  for j in np.arange (-1.0, 1.0, 0.01):\n",
        "    z = complex(i, j)\n",
        "    delta = [[z, 0], [z, 0]]\n",
        "    if np.linalg.norm(np.linalg.inv(z*np.eye(2) - a), ord = 2) >= epsilon**(-1):\n",
        "      x.append(i)\n",
        "      y.append(j)\n",
        "\n",
        "plt.axes().set_aspect(1)\n",
        "plt.scatter(x, y)\n",
        "\n"
      ]
    },
    {
      "cell_type": "markdown",
      "source": [
        "##Построение σ<sub>0.01</sub>"
      ],
      "metadata": {
        "id": "Qt-b9FXwNhky"
      }
    },
    {
      "cell_type": "code",
      "execution_count": null,
      "metadata": {
        "colab": {
          "background_save": true,
          "base_uri": "https://localhost:8080/",
          "height": 281
        },
        "id": "c6i7IcLGpaqR",
        "outputId": "be3856e0-177c-4bc5-953c-2c7c39513bf6"
      },
      "outputs": [
        {
          "data": {
            "text/plain": [
              "<matplotlib.collections.PathCollection at 0x7f5232f439b0>"
            ]
          },
          "execution_count": null,
          "metadata": {},
          "output_type": "execute_result"
        },
        {
          "data": {
            "image/png": "[encoded data removed]",
            "text/plain": [
              "<Figure size 432x288 with 1 Axes>"
            ]
          },
          "metadata": {},
          "output_type": "display_data"
        }
      ],
      "source": [
        "epsilon = 0.01\n",
        "x = []\n",
        "y = []\n",
        "for i in np.arange(-1.0, 1.0, 0.01):\n",
        "  for j in np.arange (-1.0, 1.0, 0.01):\n",
        "    z = complex(i, j)\n",
        "    delta = [[z, 0], [z, 0]]\n",
        "    if np.linalg.norm(np.linalg.inv(z*np.eye(2) - a), ord = 2) >= epsilon**(-1):\n",
        "      x.append(i)\n",
        "      y.append(j)\n",
        "\n",
        "plt.axes().set_aspect(1)\n",
        "plt.scatter(x, y)\n"
      ]
    }
  ],
  "metadata": {
    "colab": {
      "provenance": [],
      "authorship_tag": "ABX9TyOht5y3hvv/7iJS9C5pxXZm",
      "include_colab_link": true
    },
    "kernelspec": {
      "display_name": "Python 3",
      "name": "python3"
    }
  },
  "nbformat": 4,
  "nbformat_minor": 0
}