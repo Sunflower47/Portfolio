{
  "nbformat": 4,
  "nbformat_minor": 0,
  "metadata": {
    "colab": {
      "provenance": [],
      "collapsed_sections": [],
      "authorship_tag": "ABX9TyMygtClIH1Ki7/6Xz5dqArQ",
      "include_colab_link": true
    },
    "kernelspec": {
      "name": "python3",
      "display_name": "Python 3"
    }
  },
  "cells": [
    {
      "cell_type": "markdown",
      "metadata": {
        "id": "view-in-github",
        "colab_type": "text"
      },
      "source": [
        "<a href=\"https://colab.research.google.com/github/Sunflower47/Portfolio/blob/main/iteration.ipynb\" target=\"_parent\"><img src=\"https://colab.research.google.com/assets/colab-badge.svg\" alt=\"Open In Colab\"/></a>"
      ]
    },
    {
      "cell_type": "markdown",
      "source": [
        "#Задание"
      ],
      "metadata": {
        "id": "Z3N01Qj2N1lz"
      }
    },
    {
      "cell_type": "markdown",
      "source": [
        "Реализовать методы нахождение максимального собственного значения следующими способами:\n",
        "\n",
        " - степенная итерация\n",
        " - обратная итерация для μ = 3.5\n",
        " - обратная итерация для μ = 3.7"
      ],
      "metadata": {
        "id": "3AnOGEveN1y-"
      }
    },
    {
      "cell_type": "markdown",
      "source": [
        "#Код"
      ],
      "metadata": {
        "id": "5jPe2lZzN2Tj"
      }
    },
    {
      "cell_type": "markdown",
      "source": [
        "##Импорт библиотек"
      ],
      "metadata": {
        "id": "KW-GowjYN2yI"
      }
    },
    {
      "cell_type": "code",
      "metadata": {
        "id": "sF8Jd_KkV8Xc"
      },
      "source": [
        "import numpy as np\n",
        "import matplotlib.pyplot as plt\n",
        "import math"
      ],
      "execution_count": 2,
      "outputs": []
    },
    {
      "cell_type": "markdown",
      "source": [
        "##Поиск максимального собственного значения и соответствующего ему собственного вектора"
      ],
      "metadata": {
        "id": "aHH3ZWZLOjYi"
      }
    },
    {
      "cell_type": "code",
      "metadata": {
        "id": "ubEGqXXDWDSo",
        "colab": {
          "base_uri": "https://localhost:8080/"
        },
        "outputId": "92adfdb3-d10d-4b93-bc7a-7b5ced105b39"
      },
      "source": [
        "a = np.array([[3, 1, 0, 0], [1, 2, 0, 1], [0, 0, 1, 1], [0, 1, 1, 1]])\n",
        "spectrum, vector = np.linalg.eig(a)\n",
        "vector = np.transpose(vector)\n",
        "t = vector[np.argmax(spectrum)]    \n",
        "k = np.max(spectrum)           \n",
        "\n",
        "u0 = np.random.normal(0, 1, 4)\n",
        "print('Макимальное собственное число: ', k)\n",
        "print('Соответствующий ему вектор:  ', t)"
      ],
      "execution_count": 3,
      "outputs": [
        {
          "output_type": "stream",
          "name": "stdout",
          "text": [
            "Макимальное собственное число:  3.7508004220609164\n",
            "Соответствующий ему вектор:   [-0.77250966 -0.58000058 -0.08832178 -0.2429556 ]\n"
          ]
        }
      ]
    },
    {
      "cell_type": "markdown",
      "source": [
        "##Степенная итерация"
      ],
      "metadata": {
        "id": "2bdb42wqOsLQ"
      }
    },
    {
      "cell_type": "code",
      "metadata": {
        "id": "HtoJFMxvECHO",
        "colab": {
          "base_uri": "https://localhost:8080/"
        },
        "outputId": "dbcd0a57-c9e1-4033-d3d6-c4a19d0f1953"
      },
      "source": [
        "u = u0\n",
        "K = np.dot(u , a@u)/ np.dot(u, u)\n",
        "i = 0\n",
        "while  k != K:\n",
        "  y = a@u \n",
        "  u = y / np.dot(y, y)**0.5\n",
        "  K = np.dot(u , a@u)/ np.dot(u, u)\n",
        "  i += 1\n",
        "\n",
        "print('Кол-во итераций для поиска собственного значения: ',i)\n",
        "\n"
      ],
      "execution_count": 4,
      "outputs": [
        {
          "output_type": "stream",
          "name": "stdout",
          "text": [
            "Кол-во итераций для поиска собственного значения:  42\n"
          ]
        }
      ]
    },
    {
      "cell_type": "markdown",
      "source": [],
      "metadata": {
        "id": "_Ufat0jvOwIT"
      }
    },
    {
      "cell_type": "code",
      "metadata": {
        "id": "tie55gpJ7KHD",
        "colab": {
          "base_uri": "https://localhost:8080/"
        },
        "outputId": "def8c11c-e186-40d1-834c-60cbb23522b6"
      },
      "source": [
        "u = u0\n",
        "K = np.dot(u , a@u)/ np.dot(u, u)\n",
        "i = 0\n",
        "while  np.linalg.norm(np.sign(t[0])*t - np.sign(u[0])*u, ord = 2) > 1/1000:\n",
        "  y = a@u \n",
        "  u = y / np.dot(y, y)**0.5\n",
        "  K = np.dot(u , a@u)/ np.dot(u, u)\n",
        "  i += 1\n",
        "  \n",
        "\n",
        "print('Кол-во итераций для поиска собственного вектора: ',i)"
      ],
      "execution_count": 5,
      "outputs": [
        {
          "output_type": "stream",
          "name": "stdout",
          "text": [
            "Кол-во итераций для поиска собственного вектора:  15\n"
          ]
        }
      ]
    },
    {
      "cell_type": "markdown",
      "source": [
        "##Обратная итерация для μ = 3.5"
      ],
      "metadata": {
        "id": "E-_oLGs7O2LB"
      }
    },
    {
      "cell_type": "code",
      "metadata": {
        "colab": {
          "base_uri": "https://localhost:8080/"
        },
        "id": "I3jM4ajUMnUq",
        "outputId": "6e75abe7-3907-416f-bc69-2033d2caf6f7"
      },
      "source": [
        "K = 3.5\n",
        "u = u0  \n",
        "i = 0\n",
        "while K != k:\n",
        "  y = np.linalg.inv(a - K* np.eye(4))@u\n",
        "  u = y/np.dot(y, y)**0.5\n",
        "  K = np.dot(u, a@u) / np.dot(u, u)\n",
        "  i += 1 \n",
        "\n",
        "print('Кол-во итераций для поиска собственного значения: ',i)\n"
      ],
      "execution_count": 6,
      "outputs": [
        {
          "output_type": "stream",
          "name": "stdout",
          "text": [
            "Кол-во итераций для поиска собственного значения:  5\n"
          ]
        }
      ]
    },
    {
      "cell_type": "markdown",
      "source": [
        "##Обратная итерация для μ = 3.7"
      ],
      "metadata": {
        "id": "hpf_SccxPCHQ"
      }
    },
    {
      "cell_type": "code",
      "metadata": {
        "colab": {
          "base_uri": "https://localhost:8080/"
        },
        "id": "BhVyZ5qLS17f",
        "outputId": "f7e0b402-3fd4-473c-9cf9-165fb243f6d3"
      },
      "source": [
        "K = 3.7\n",
        "u = u0  \n",
        "i = 0\n",
        "while K != k:\n",
        "  y = np.linalg.inv(a - K* np.eye(4))@u\n",
        "  u = y/np.dot(y, y)**0.5\n",
        "  K = np.dot(u, a@u) / np.dot(u, u)\n",
        "  i += 1 \n",
        "\n",
        "print('Кол-во итераций для поиска собственного значения: ',i)"
      ],
      "execution_count": 7,
      "outputs": [
        {
          "output_type": "stream",
          "name": "stdout",
          "text": [
            "Кол-во итераций для поиска собственного значения:  3\n"
          ]
        }
      ]
    }
  ]
}