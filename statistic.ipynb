{
  "nbformat": 4,
  "nbformat_minor": 0,
  "metadata": {
    "colab": {
      "provenance": [],
      "authorship_tag": "ABX9TyM0w801zroZ/wOGfEoT7X32",
      "include_colab_link": true
    },
    "kernelspec": {
      "name": "python3",
      "display_name": "Python 3"
    },
    "language_info": {
      "name": "python"
    }
  },
  "cells": [
    {
      "cell_type": "markdown",
      "metadata": {
        "id": "view-in-github",
        "colab_type": "text"
      },
      "source": [
        "<a href=\"https://colab.research.google.com/github/Sunflower47/Portfolio/blob/main/statistic.ipynb\" target=\"_parent\"><img src=\"https://colab.research.google.com/assets/colab-badge.svg\" alt=\"Open In Colab\"/></a>"
      ]
    },
    {
      "cell_type": "markdown",
      "source": [
        "#Задание"
      ],
      "metadata": {
        "id": "q6UiD_xXjSqH"
      }
    },
    {
      "cell_type": "markdown",
      "source": [
        "Вы должны реализовать следующие алгоритмы в файле mixfit.py:\n",
        "\n"
      ],
      "metadata": {
        "id": "JEG5hlDImaBq"
      }
    },
    {
      "cell_type": "markdown",
      "source": [
        "Метод максимального правдоподобия для смеси двух одномерных нормальных распределений. Напишите функцию max_likelihood(x, tau, mu1, sigma1, mu2, sigma2, rtol=1e-3), где x — массив данных, остальные позиционные аргументы — начальные приближения для искомых параметров распределения, rtol — относительная точность поиска параметров, функция должна возвращать кортеж из параметров распределения в том же порядке, что и в сигнатуре функции. Для оптимизации разрешается использовать scipy.optimize.\n",
        "\n"
      ],
      "metadata": {
        "id": "QcsMXu8Ymcki"
      }
    },
    {
      "cell_type": "markdown",
      "source": [
        "EM-метод для смеси трех нормальных распределений — τ1 N(µ1, σ) + τ2 N(µ2, σ) + (1-τ1-τ2) N(0, σ0). Напишите функцию em_double_cluster(x, tau1, tau2, muv, mu1, mu2, sigma02, sigmax2, sigmav2, rtol=1e-5), где\n",
        "\n",
        " - x — массив (N, 4) состоящий из двух столбцов координат звезд, и двух столбцов собственых движений звезд. Собственными движениями называется скорость движения звезды в картинной плоскости в угловых единицах;\n",
        "τ1 (tau1), τ2 (tau2) — относительные количества звезд в первом и втором скоплениях. Обратите внимание, что относительное количество звезд поля может быть найдена из условия нормировки (1-τ1-τ2);\n",
        " - µ1 — четырехмерный параметр распределения звезд в первом скоплении. Состоит из среднего положения звезд скопления mu1 и среднего собственного движения скопления muv;\n",
        " - µ2 — четырехмерный параметр распределения звезд во втором скоплении. Состоит из среднего положения звезд скопления mu2 и среднего собственного движения скопления muv. Обратите внимание, что предполагается, что скорость движения скоплений — одинаковая;\n",
        " - σ — диагональная матрица 4x4. Первые два компоненты которой равны sigmax2 и отвечают за разброс положения звезд скоплений вокруг среднего, а последние два компонента sigmav2 отвечают за разброс собственных движений звезд скоплений относительно среднего. Иначе говоря, предполагается, что разброс по координатам имеет симметричный характер и одинаковую дисперсию по обоим направлениям. Аналогичное предположение действует для разброса проекций скоростей.\n",
        " - σ0 — диагональная матрица 2x2, элементы которой равны sigma02. Разброс собственных движений звезд поля. Обратите внимание, что предполагается, что среднее собственное движение звезд поля — нулевое."
      ],
      "metadata": {
        "id": "oEP7SQ0lmi2P"
      }
    },
    {
      "cell_type": "markdown",
      "source": [
        "#Код"
      ],
      "metadata": {
        "id": "9SWiVPBsjS6t"
      }
    },
    {
      "cell_type": "markdown",
      "source": [
        "Импорт библиотек"
      ],
      "metadata": {
        "id": "fQ1MdEfXmxf6"
      }
    },
    {
      "cell_type": "code",
      "source": [
        "import numpy as np\n",
        "from scipy import optimize\n",
        "import matplotlib.pyplot as plt\n"
      ],
      "metadata": {
        "id": "61Q7f8VljuW-"
      },
      "execution_count": 7,
      "outputs": []
    },
    {
      "cell_type": "markdown",
      "source": [
        "Нормальное распределение"
      ],
      "metadata": {
        "id": "QzFgmozam10q"
      }
    },
    {
      "cell_type": "code",
      "source": [
        "def normal(x, mu, sigma):\n",
        "    return 1/(2*np.pi*sigma) * np.exp(-(x-mu)**2 / (2*sigma**2))"
      ],
      "metadata": {
        "id": "ppZi0vZ2juv6"
      },
      "execution_count": 8,
      "outputs": []
    },
    {
      "cell_type": "markdown",
      "source": [
        "Задание смеси распределений"
      ],
      "metadata": {
        "id": "02rBr6eOnP4J"
      }
    },
    {
      "cell_type": "code",
      "source": [
        "def p(x, tau, mu1, sigma1, mu2, sigma2):\n",
        "    return tau*normal(x, mu1, sigma1) + (1 - tau)*normal(x, mu2, sigma2)"
      ],
      "metadata": {
        "id": "41jEpwcIjzOh"
      },
      "execution_count": 9,
      "outputs": []
    },
    {
      "cell_type": "markdown",
      "source": [
        "Функция правдоподобия"
      ],
      "metadata": {
        "id": "kYKygE1TnVmP"
      }
    },
    {
      "cell_type": "code",
      "source": [
        "def func_likehood(y, x):\n",
        "    tau = y[0]\n",
        "    mu1 = y[1]\n",
        "    sigma1 = y[2]\n",
        "    mu2 = y[3]\n",
        "    sigma2 = y[4]\n",
        "    return - np.sum(np.log(p(x, tau, mu1, sigma1, mu2, sigma2)))"
      ],
      "metadata": {
        "id": "MSMO3IkHj1r8"
      },
      "execution_count": 10,
      "outputs": []
    },
    {
      "cell_type": "markdown",
      "source": [
        "##Задание функции максимального правдоподобия"
      ],
      "metadata": {
        "id": "cbTCrR7Pm9It"
      }
    },
    {
      "cell_type": "code",
      "source": [
        "def max_likelihood(x, tau, mu1, sigma1, mu2, sigma2, rtol=1e-3):\n",
        "    return optimize.minimize(func_likehood, [tau, mu1, sigma1, mu2, sigma2], args = x,\n",
        "                             bounds=[(0,1), (-500, 500), (-500, 500), (-500, 500), (-500, 500)], \n",
        "                             tol=rtol).x"
      ],
      "metadata": {
        "id": "gxFoxDK4j2q9"
      },
      "execution_count": 11,
      "outputs": []
    },
    {
      "cell_type": "markdown",
      "source": [
        "Двумерное нормальное распределение"
      ],
      "metadata": {
        "id": "GTZ-Os3knJHl"
      }
    },
    {
      "cell_type": "code",
      "source": [
        "def m_double_gauss(x, tau, mu1, sigma1, mu2, sigma2, rtol=1e-3):\n",
        "    y = np.array([tau, mu1, sigma1, mu2, sigma2])\n",
        "    while True:\n",
        "        tau = np.sum(tau*normal(x, mu1, sigma1))/ np.sum(p(x, tau, mu1, sigma1, mu2, sigma2))\n",
        "        mu1 = np.sum(x*normal(x, mu1, sigma1))/np.sum(normal(x, mu1, sigma1))\n",
        "        mu2 = np.sum(x*normal(x, mu2, sigma2))/np.sum(normal(x, mu2, sigma2))\n",
        "        sigma1 = np.sqrt(np.sum((x-sigma1)**2 *normal(x, mu1, sigma1))/ np.sum(x*normal(x, mu1, sigma1)))      \n",
        "        sigma2 = np.sqrt(np.sum((x-sigma2)**2 *normal(x, mu2, sigma2))/ np.sum(x*normal(x, mu2, sigma2)))\n",
        "        y_new = np.array([tau, mu1, sigma1, mu2, sigma2])\n",
        "        \n",
        "        if np.linalg.norm(y - y_new) <= rtol:\n",
        "            break\n",
        "        y = y_new\n",
        "        \n",
        "    return y"
      ],
      "metadata": {
        "id": "zfxS6qi6j4jU"
      },
      "execution_count": 12,
      "outputs": []
    },
    {
      "cell_type": "markdown",
      "source": [
        "##EM-алгоритм"
      ],
      "metadata": {
        "id": "0NRsWdnMnZrc"
      }
    },
    {
      "cell_type": "code",
      "source": [
        "def em_double_cluster(x, tau1, tau2, muv, mu1, mu2, sigma02, sigmax2, sigmav2, rtol=1e-5):\n",
        "    sigma = np.concatenate((sigmax2,sigmav2))\n",
        "    mu_1 = np.vstack((mu1, muv))\n",
        "    mu_2 = np.vstack((mu2, muv))\n",
        "    \n",
        "    x_n1 = lambda mu_1,sigma, tau1: stats.multivariate_normal(mu_1, sigma).rvs(int(tau1))\n",
        "    x_n2 = lambda mu_2,sigma, tau2:stats.multivariate_normal(mu_2, sigma).rvs(int(tau2))\n",
        "    x_0  = lambda sigma02, tau1, tau2: stats.multivariate_normal(cov=sigma02).rvs(int(1 - tau1 - tau2))\n",
        "    \n",
        "    p = lambda tau1, tau2, muv, mu1, mu2, sigma, sigma02: x_0(mu_1,sigma, tau1)+ x_n1(mu_2,sigma, tau2) + x_n2(sigma02, tau1, tau2)\n",
        "    \n",
        "    while True:\n",
        "        \n",
        "        tau1 = np.sum(x_n1(mu_1,sigma, tau1))/p(tau1, tau2, muv, mu1, mu2, sigma02, sigmax2, sigmav2)\n",
        "        tau2 = np.sum(x_n2(mu_2,sigma, tau2))/p(tau1, tau2, muv, mu1, mu2, sigma02, sigmax2, sigmav2)\n",
        "        \n",
        "        mu_1 = np.sum(x@x_n1(mu_1,sigma, tau1))/np.sum(x_n1(mu_1,sigma, tau1))\n",
        "        mu_2 = np.sum(x@x_n1(mu_2,sigma, tau2))/np.sum(x_n2(mu_2,sigma, tau2))\n",
        "        \n",
        "        sigma = np.sum((x - mu_1).T @ x_n1(mu_1,sigma, tau1) @ (x - mu_1))/np.sum(x_n1(mu_1,sigma, tau1))\n",
        "        \n",
        "        sigma02 = np.sum(x.T@x_n2(sigma02, tau1, tau2)@x) / np.sum(x_n2(sigma02, tau1, tau2))\n",
        "     \n",
        "    \n",
        "    \n",
        "    return [tau1, tau2, muv, mu1, mu2, sigma[0:3], sigma[3:], sigma02]"
      ],
      "metadata": {
        "id": "S4pCX4QGj6xl"
      },
      "execution_count": 13,
      "outputs": []
    }
  ]
}