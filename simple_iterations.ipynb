{
  "nbformat": 4,
  "nbformat_minor": 0,
  "metadata": {
    "colab": {
      "provenance": [],
      "collapsed_sections": [],
      "authorship_tag": "ABX9TyPY8csmVHnBUNHUOc4PWjcm",
      "include_colab_link": true
    },
    "kernelspec": {
      "name": "python3",
      "display_name": "Python 3"
    }
  },
  "cells": [
    {
      "cell_type": "markdown",
      "metadata": {
        "id": "view-in-github",
        "colab_type": "text"
      },
      "source": [
        "<a href=\"https://colab.research.google.com/github/Sunflower47/Portfolio/blob/main/simple_iterations.ipynb\" target=\"_parent\"><img src=\"https://colab.research.google.com/assets/colab-badge.svg\" alt=\"Open In Colab\"/></a>"
      ]
    },
    {
      "cell_type": "markdown",
      "source": [
        "#Задание"
      ],
      "metadata": {
        "id": "2s1V1xvHQqog"
      }
    },
    {
      "cell_type": "markdown",
      "source": [
        "Решить уравнения методом простых итераций."
      ],
      "metadata": {
        "id": "VETNAtPwQs89"
      }
    },
    {
      "cell_type": "markdown",
      "source": [
        "#Код"
      ],
      "metadata": {
        "id": "4jurgN-ZQv6I"
      }
    },
    {
      "cell_type": "markdown",
      "source": [
        "##Импорт библиотек"
      ],
      "metadata": {
        "id": "gRik1R1fQxcI"
      }
    },
    {
      "cell_type": "code",
      "metadata": {
        "id": "5kUBauxV8FSf"
      },
      "source": [
        "import numpy as np\n",
        "import matplotlib.pyplot as plt\n",
        "import math"
      ],
      "execution_count": 1,
      "outputs": []
    },
    {
      "cell_type": "markdown",
      "source": [
        "##Решение первого уравнения"
      ],
      "metadata": {
        "id": "_LUJMHwGQ8zR"
      }
    },
    {
      "cell_type": "code",
      "metadata": {
        "colab": {
          "base_uri": "https://localhost:8080/",
          "height": 317
        },
        "id": "X58mUVWN8PYZ",
        "outputId": "6cac3b8c-f963-4300-8299-499210662033"
      },
      "source": [
        "x = 1\n",
        "i = 0\n",
        "m = []\n",
        "while abs(1 - (1 + ( 1+ math.cos(x))/(x*math.sin(x)))) > 0.0001:\n",
        "  m.append(abs(x - math.pi)/math.pi)\n",
        "  x = x + (1 + math.cos(x))/math.sin(x)\n",
        "  i += 1\n",
        "\n",
        "\n",
        "print(x)\n",
        "print(i)\n",
        "plt.semilogy(np.arange(0, i), m)"
      ],
      "execution_count": 2,
      "outputs": [
        {
          "output_type": "stream",
          "name": "stdout",
          "text": [
            "3.140991570007361\n",
            "10\n"
          ]
        },
        {
          "output_type": "execute_result",
          "data": {
            "text/plain": [
              "[<matplotlib.lines.Line2D at 0x7fc6e0340b10>]"
            ]
          },
          "metadata": {},
          "execution_count": 2
        },
        {
          "output_type": "display_data",
          "data": {
            "text/plain": [
              "<Figure size 432x288 with 1 Axes>"
            ],
            "image/png": "[encoded data removed]"
          },
          "metadata": {
            "needs_background": "light"
          }
        }
      ]
    },
    {
      "cell_type": "markdown",
      "source": [
        "##Решение второго уравнения"
      ],
      "metadata": {
        "id": "j_Dp_FLpRAtX"
      }
    },
    {
      "cell_type": "code",
      "metadata": {
        "colab": {
          "base_uri": "https://localhost:8080/",
          "height": 317
        },
        "id": "CX8Aud8sAr5O",
        "outputId": "45ef1493-e54f-4d24-a44b-24eee3bd3a03"
      },
      "source": [
        "x = 1\n",
        "m = []\n",
        "i = 0\n",
        "while abs(1 - 0.5*(1 + 2/x**2)) > 0.000001:\n",
        "  m.append(abs(x - 2**0.5)/2**0.5)\n",
        "  x = 0.5*(x + 2/x)\n",
        "  i += 1\n",
        "  \n",
        "\n",
        "print(x)\n",
        "print(i)\n",
        "plt.semilogy(np.arange(0, i), m)"
      ],
      "execution_count": 3,
      "outputs": [
        {
          "output_type": "stream",
          "name": "stdout",
          "text": [
            "1.4142135623746899\n",
            "4\n"
          ]
        },
        {
          "output_type": "execute_result",
          "data": {
            "text/plain": [
              "[<matplotlib.lines.Line2D at 0x7fc6e01ace50>]"
            ]
          },
          "metadata": {},
          "execution_count": 3
        },
        {
          "output_type": "display_data",
          "data": {
            "text/plain": [
              "<Figure size 432x288 with 1 Axes>"
            ],
            "image/png": "[encoded data removed]"
          },
          "metadata": {
            "needs_background": "light"
          }
        }
      ]
    }
  ]
}