{
  "nbformat": 4,
  "nbformat_minor": 0,
  "metadata": {
    "colab": {
      "provenance": [],
      "collapsed_sections": [],
      "authorship_tag": "ABX9TyM94RIKfbj2YJcsfnCD8dpE",
      "include_colab_link": true
    },
    "kernelspec": {
      "name": "python3",
      "display_name": "Python 3"
    }
  },
  "cells": [
    {
      "cell_type": "markdown",
      "metadata": {
        "id": "view-in-github",
        "colab_type": "text"
      },
      "source": [
        "<a href=\"https://colab.research.google.com/github/Sunflower47/Portfolio/blob/main/The_method_of_least_squares.ipynb\" target=\"_parent\"><img src=\"https://colab.research.google.com/assets/colab-badge.svg\" alt=\"Open In Colab\"/></a>"
      ]
    },
    {
      "cell_type": "markdown",
      "source": [
        "#Задание"
      ],
      "metadata": {
        "id": "KgnOwIbz9uK_"
      }
    },
    {
      "cell_type": "markdown",
      "source": [
        "Реализовать метод наименьших квадратов"
      ],
      "metadata": {
        "id": "8jVx9iaT9ugj"
      }
    },
    {
      "cell_type": "markdown",
      "source": [
        "#Код"
      ],
      "metadata": {
        "id": "jzfO_0EW90p0"
      }
    },
    {
      "cell_type": "markdown",
      "source": [
        "##Импорт библиотек"
      ],
      "metadata": {
        "id": "6f7p7DnT92QE"
      }
    },
    {
      "cell_type": "code",
      "metadata": {
        "id": "6aogKu5P3eMn"
      },
      "source": [
        "import numpy as np\n",
        "import matplotlib.pyplot as plt\n"
      ],
      "execution_count": 5,
      "outputs": []
    },
    {
      "cell_type": "markdown",
      "source": [
        "##Значения функции y в точках x"
      ],
      "metadata": {
        "id": "kbU18jNv96l2"
      }
    },
    {
      "cell_type": "code",
      "metadata": {
        "id": "bAitLJkd3jai"
      },
      "source": [
        "x = np.array([-1, -0.7, -0.43, -0.14, -0.14, 0.43, 0.71, 1, 1.29, 1.57, 1.86, 2.14, 2.43, 2.71, 3])\n",
        "y = np.array([-2.25, -0.77, 0.21, 0.44, 0.64, 0.03, -0.22, -0.84, -1.2, -1.03, -0.37, 0.61, 2.67, 5.04, 8.90])"
      ],
      "execution_count": 32,
      "outputs": []
    },
    {
      "cell_type": "markdown",
      "source": [
        "##Задание массива: 1, x<sup>1</sup> , ... , x<sup>n</sup>\n"
      ],
      "metadata": {
        "id": "4-_MCOwg-NLS"
      }
    },
    {
      "cell_type": "code",
      "source": [
        "def design(x, n):             \n",
        "  dm = np.zeros(n+1)\n",
        "  for i in range(n+1):\n",
        "    dm[i] = x**i\n",
        "  return dm"
      ],
      "metadata": {
        "id": "k_S6xkEH9T7-"
      },
      "execution_count": 33,
      "outputs": []
    },
    {
      "cell_type": "markdown",
      "source": [
        "##Вычисление коэффициентов полинома степени m для P<sub>m</sub> = a<sub>0</sub> + a<sub>1</sub>x + ... + a<sub>m</sub>x<sup>n</sup>"
      ],
      "metadata": {
        "id": "0ZhFvDS6-5Dq"
      }
    },
    {
      "cell_type": "code",
      "metadata": {
        "id": "t_3n7xOzGi9H"
      },
      "source": [
        "def const(m):           \n",
        "  D = [0]*len(x)\n",
        "  for i in range(len(D)):\n",
        "    D[i] = design(x[i], m)\n",
        "\n",
        "  d = np.transpose(D)\n",
        "  C = np.linalg.inv(d@D)@d@y\n",
        "  return C"
      ],
      "execution_count": 27,
      "outputs": []
    },
    {
      "cell_type": "markdown",
      "source": [
        "##Ищем оптимальное m, при котором среднеквадратичное отклонение начинает расти"
      ],
      "metadata": {
        "id": "nsn2rYJxHgcU"
      }
    },
    {
      "cell_type": "code",
      "metadata": {
        "id": "lADQj9sYHJjA",
        "colab": {
          "base_uri": "https://localhost:8080/",
          "height": 320
        },
        "outputId": "2047cfb0-8d6f-4d61-cb3e-b85539d660a6"
      },
      "source": [
        "m = len(x)\n",
        "s = [0]*m\n",
        "\n",
        "for j in range(m):\n",
        "    for i in range(len(x)):\n",
        "      s[j] = s[j] + (np.dot(design(x[i], j), const(j)) -y[i])**2\n",
        "    s[j] = s[j]/(len(x)- j) \n",
        "plt.scatter(range(len(s)), s)\n",
        "\n",
        "for i in range(len(s)-1):\n",
        "  if s[i+1] - s[i] > 10 :\n",
        "    break\n",
        "print(i)\n",
        "plt.scatter(i, s[i])\n",
        "\n",
        "print(s)\n",
        "\n",
        "M = i"
      ],
      "execution_count": 9,
      "outputs": [
        {
          "output_type": "stream",
          "name": "stdout",
          "text": [
            "12\n",
            "[7.495379555555556, 4.450215866706205, 2.453426997579178, 0.012470899099731739, 0.012460407583509968, 0.012600059280330731, 0.011590813700606575, 0.01228904175643667, 0.011569371524735512, 0.012931045182099185, 0.014257919624093887, 0.005380189313639674, 0.027662324217839648, 393.9822688719077, 988.5556846798002]\n"
          ]
        },
        {
          "output_type": "display_data",
          "data": {
            "text/plain": [
              "<Figure size 432x288 with 1 Axes>"
            ],
            "image/png": "[encoded data removed]"
          },
          "metadata": {
            "needs_background": "light"
          }
        }
      ]
    },
    {
      "cell_type": "markdown",
      "source": [
        "##Сравнение полинома полученной степени с исходными данными"
      ],
      "metadata": {
        "id": "KyQ-yf3RH0q7"
      }
    },
    {
      "cell_type": "code",
      "metadata": {
        "id": "VkScNswmrHJd",
        "colab": {
          "base_uri": "https://localhost:8080/",
          "height": 282
        },
        "outputId": "65dc393c-5bc2-4bf5-d42c-c82eb86f93ef"
      },
      "source": [
        "plt.plot(x, y)\n",
        "y1 = [0]*len(y)\n",
        "for i in range(len(x)):\n",
        "  y1[i] = np.dot(design(x[i], M), const(M))\n",
        "plt.plot(x, y1)\n"
      ],
      "execution_count": 10,
      "outputs": [
        {
          "output_type": "execute_result",
          "data": {
            "text/plain": [
              "[<matplotlib.lines.Line2D at 0x7f308c307c10>]"
            ]
          },
          "metadata": {},
          "execution_count": 10
        },
        {
          "output_type": "display_data",
          "data": {
            "text/plain": [
              "<Figure size 432x288 with 1 Axes>"
            ],
            "image/png": "[encoded data removed]"
          },
          "metadata": {
            "needs_background": "light"
          }
        }
      ]
    },
    {
      "cell_type": "markdown",
      "source": [
        "##Сравнение с полиномами других степеней"
      ],
      "metadata": {
        "id": "VXmfph_5H82x"
      }
    },
    {
      "cell_type": "code",
      "metadata": {
        "id": "m51MHphdxfOp",
        "colab": {
          "base_uri": "https://localhost:8080/",
          "height": 282
        },
        "outputId": "ad744540-2004-4ee7-c24e-b00297e782ff"
      },
      "source": [
        "for j in range(0, len(x)):\n",
        "  for i in range(len(x)):\n",
        "    y1[i] = np.dot(design(x[i], j), const(j))\n",
        "  if j == M:\n",
        "    plt.plot(x, y1, color= 'purple')\n",
        "  elif j == 3:\n",
        "    plt.plot(x, y1, color= 'black')\n",
        "  else:\n",
        "    plt.plot(x, y1)\n",
        "\n",
        "plt.scatter(x, y, color='purple')"
      ],
      "execution_count": 11,
      "outputs": [
        {
          "output_type": "execute_result",
          "data": {
            "text/plain": [
              "<matplotlib.collections.PathCollection at 0x7f308e846e50>"
            ]
          },
          "metadata": {},
          "execution_count": 11
        },
        {
          "output_type": "display_data",
          "data": {
            "text/plain": [
              "<Figure size 432x288 with 1 Axes>"
            ],
            "image/png": "[encoded data removed]"
          },
          "metadata": {
            "needs_background": "light"
          }
        }
      ]
    },
    {
      "cell_type": "markdown",
      "source": [
        "##Решение с использованием QR-разложения"
      ],
      "metadata": {
        "id": "aG-HGo1bIOZt"
      }
    },
    {
      "cell_type": "code",
      "metadata": {
        "id": "0wecXnHlyfjx",
        "colab": {
          "base_uri": "https://localhost:8080/",
          "height": 282
        },
        "outputId": "47db800a-79e4-4d7d-be34-33c4b900f7c5"
      },
      "source": [
        "X = [0]*len(x)\n",
        "for i in range(len(X)):\n",
        "  X[i] = design(x[i], M)\n",
        "\n",
        "q, r = np.linalg.qr(X)\n",
        "\n",
        "C = np.linalg.inv(np.transpose(r)@r)@np.transpose(X)@y\n",
        "plt.plot(x, X@C)\n",
        "plt.plot(x, y)\n"
      ],
      "execution_count": 13,
      "outputs": [
        {
          "output_type": "execute_result",
          "data": {
            "text/plain": [
              "[<matplotlib.lines.Line2D at 0x7f308c1bf990>]"
            ]
          },
          "metadata": {},
          "execution_count": 13
        },
        {
          "output_type": "display_data",
          "data": {
            "text/plain": [
              "<Figure size 432x288 with 1 Axes>"
            ],
            "image/png": "[encoded data removed]"
          },
          "metadata": {
            "needs_background": "light"
          }
        }
      ]
    }
  ]
}