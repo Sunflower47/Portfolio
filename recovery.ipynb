{
  "nbformat": 4,
  "nbformat_minor": 0,
  "metadata": {
    "colab": {
      "provenance": [],
      "collapsed_sections": [],
      "mount_file_id": "1zPbAZI1Mgz2DTdH21b370_5AFmvVBDYv",
      "authorship_tag": "ABX9TyPCFmlQgstuECwJmLasaota",
      "include_colab_link": true
    },
    "kernelspec": {
      "name": "python3",
      "display_name": "Python 3"
    }
  },
  "cells": [
    {
      "cell_type": "markdown",
      "metadata": {
        "id": "view-in-github",
        "colab_type": "text"
      },
      "source": [
        "<a href=\"https://colab.research.google.com/github/Sunflower47/Portfolio/blob/main/recovery.ipynb\" target=\"_parent\"><img src=\"https://colab.research.google.com/assets/colab-badge.svg\" alt=\"Open In Colab\"/></a>"
      ]
    },
    {
      "cell_type": "markdown",
      "source": [
        "#Задание"
      ],
      "metadata": {
        "id": "ERqEq6nsPo9A"
      }
    },
    {
      "cell_type": "markdown",
      "source": [
        "Восстановить изображение, очистив от шума с помощью SVD-разложения"
      ],
      "metadata": {
        "id": "CjYzWnupPpZk"
      }
    },
    {
      "cell_type": "markdown",
      "source": [
        "#Код"
      ],
      "metadata": {
        "id": "qHxqCJQdPzkp"
      }
    },
    {
      "cell_type": "markdown",
      "source": [
        "##Импорт библиотек"
      ],
      "metadata": {
        "id": "CfpAyX8MP122"
      }
    },
    {
      "cell_type": "code",
      "metadata": {
        "id": "GDt2KOYE9Joq"
      },
      "source": [
        "import numpy as np\n",
        "import matplotlib.pyplot as plt"
      ],
      "execution_count": null,
      "outputs": []
    },
    {
      "cell_type": "markdown",
      "source": [
        "##Скачивание данных"
      ],
      "metadata": {
        "id": "z7p22QNSP11c"
      }
    },
    {
      "cell_type": "code",
      "metadata": {
        "id": "qHoc_E2Q_RCm"
      },
      "source": [
        "with np.load('/content/drive/MyDrive/Colab Notebooks/data.npz') as data:\n",
        "  A, C = data['A'], data['C']"
      ],
      "execution_count": null,
      "outputs": []
    },
    {
      "cell_type": "markdown",
      "source": [
        "##Преобразование матрицы в вектор и вектора в матрицу"
      ],
      "metadata": {
        "id": "nDSBfHaZQPWq"
      }
    },
    {
      "cell_type": "code",
      "metadata": {
        "id": "ZZDeCicPC0BF"
      },
      "source": [
        "def mat2vec(A):\n",
        "  h, w = A.shape\n",
        "  a = np.zeros(h*w, dtype = A.dtype)\n",
        "  A = np.flipud(A)\n",
        "  for i , row in enumerate(A):\n",
        "    a[i*w:i*w+w] = row\n",
        "  return a\n",
        "\n",
        "def vec2mat(a, shape):\n",
        "  h, w = shape\n",
        "  A = np.zeros(shape, dtype = a.dtype)\n",
        "  for i in range(h):\n",
        "    A[i, :] = a[i*w:i*w+w]\n",
        "  return np.flipud(A)"
      ],
      "execution_count": null,
      "outputs": []
    },
    {
      "cell_type": "code",
      "metadata": {
        "colab": {
          "base_uri": "https://localhost:8080/",
          "height": 206
        },
        "id": "NC6vx4HrUaNw",
        "outputId": "186a671c-37bb-4df3-d84a-e7bc7de56311"
      },
      "source": [
        "plt.imshow(A)"
      ],
      "execution_count": null,
      "outputs": [
        {
          "output_type": "execute_result",
          "data": {
            "text/plain": [
              "<matplotlib.image.AxesImage at 0x7f19fa4ef828>"
            ]
          },
          "metadata": {
            "tags": []
          },
          "execution_count": 4
        },
        {
          "output_type": "display_data",
          "data": {
            "image/png": "[encoded data removed]",
            "text/plain": [
              "<Figure size 432x288 with 1 Axes>"
            ]
          },
          "metadata": {
            "tags": [],
            "needs_background": "light"
          }
        }
      ]
    },
    {
      "cell_type": "code",
      "metadata": {
        "colab": {
          "base_uri": "https://localhost:8080/",
          "height": 172
        },
        "id": "W4tjcacjbKi0",
        "outputId": "4b89fe89-89ba-4a9c-f0c8-18eb9853d58f"
      },
      "source": [
        "B0 = np.random.normal(0, 1,(16, 51))\n",
        "plt.imshow(B0)"
      ],
      "execution_count": null,
      "outputs": [
        {
          "output_type": "execute_result",
          "data": {
            "text/plain": [
              "<matplotlib.image.AxesImage at 0x7f19f7774c88>"
            ]
          },
          "metadata": {
            "tags": []
          },
          "execution_count": 7
        },
        {
          "output_type": "display_data",
          "data": {
            "image/png": "[encoded data removed]",
            "text/plain": [
              "<Figure size 432x288 with 1 Axes>"
            ]
          },
          "metadata": {
            "tags": [],
            "needs_background": "light"
          }
        }
      ]
    },
    {
      "cell_type": "code",
      "metadata": {
        "colab": {
          "base_uri": "https://localhost:8080/",
          "height": 206
        },
        "id": "vy3WB4H1bNgj",
        "outputId": "ac0589a4-650e-4734-9942-07d6fc2a9ffc"
      },
      "source": [
        "b0 = mat2vec(B0)\n",
        "b = C@b0\n",
        "B = vec2mat(b, (25, 60))\n",
        "plt.imshow(B)"
      ],
      "execution_count": null,
      "outputs": [
        {
          "output_type": "execute_result",
          "data": {
            "text/plain": [
              "<matplotlib.image.AxesImage at 0x7f19f76d5240>"
            ]
          },
          "metadata": {
            "tags": []
          },
          "execution_count": 8
        },
        {
          "output_type": "display_data",
          "data": {
            "image/png": "[encoded data removed]",
            "text/plain": [
              "<Figure size 432x288 with 1 Axes>"
            ]
          },
          "metadata": {
            "tags": [],
            "needs_background": "light"
          }
        }
      ]
    },
    {
      "cell_type": "code",
      "metadata": {
        "colab": {
          "base_uri": "https://localhost:8080/"
        },
        "id": "L3fRymv8gUl_",
        "outputId": "2364e7d5-1f5f-4294-dbed-beedb032bd34"
      },
      "source": [
        "s,v,d = np.linalg.svd(C) \n",
        "\n",
        "diag = np.zeros(np.shape(C))\n",
        "for i in range(len(v)):\n",
        "  diag[i][i] = v[i]\n",
        "\n",
        "print('det C = ', np.linalg.det(np.transpose(diag)@diag), '=> система переодопределена')"
      ],
      "execution_count": null,
      "outputs": [
        {
          "output_type": "stream",
          "text": [
            "det C =  0.0 => система переодопределена\n"
          ],
          "name": "stdout"
        }
      ]
    },
    {
      "cell_type": "code",
      "metadata": {
        "id": "tqmz-YucsAsg",
        "colab": {
          "base_uri": "https://localhost:8080/",
          "height": 172
        },
        "outputId": "ec75af7c-cee8-422a-b511-3daa50e53c1b"
      },
      "source": [
        "diag = np.zeros(np.shape(np.transpose(C)))\n",
        "for i in range(len(v)):\n",
        "  if v[i] != 0:\n",
        "   diag[i][i] = 1/v[i]\n",
        "\n",
        "a0 = np.transpose(d)@diag@np.transpose(s)@mat2vec(A)\n",
        "A0 = vec2mat(a0, (16, 51))\n",
        "plt.imshow(A0)"
      ],
      "execution_count": null,
      "outputs": [
        {
          "output_type": "execute_result",
          "data": {
            "text/plain": [
              "<matplotlib.image.AxesImage at 0x7f19eef6c240>"
            ]
          },
          "metadata": {
            "tags": []
          },
          "execution_count": 37
        },
        {
          "output_type": "display_data",
          "data": {
            "image/png": "[encoded data removed]",
            "text/plain": [
              "<Figure size 432x288 with 1 Axes>"
            ]
          },
          "metadata": {
            "tags": [],
            "needs_background": "light"
          }
        }
      ]
    },
    {
      "cell_type": "markdown",
      "source": [
        "##Восстановление и визуализация результата"
      ],
      "metadata": {
        "id": "K3QEMJBNP9pg"
      }
    },
    {
      "cell_type": "code",
      "metadata": {
        "colab": {
          "base_uri": "https://localhost:8080/",
          "height": 172
        },
        "id": "YcyVJb6RPDNg",
        "outputId": "9fb17e01-1c13-4e84-dfe8-100ad138db93"
      },
      "source": [
        "s,v,d = np.linalg.svd(C) \n",
        "for i in range(len(v)):\n",
        "  v[i] = round(v[i], 1)\n",
        "\n",
        "diag = np.zeros(np.shape(np.transpose(C)))\n",
        "for i in range(len(v)):\n",
        "  if v[i] != 0:\n",
        "   diag[i][i] = 1/v[i]\n",
        "\n",
        "a0 = np.transpose(d)@diag@np.transpose(s)@mat2vec(A)\n",
        "A0 = vec2mat(a0, (16, 51))\n",
        "plt.imshow(A0)"
      ],
      "execution_count": null,
      "outputs": [
        {
          "output_type": "execute_result",
          "data": {
            "text/plain": [
              "<matplotlib.image.AxesImage at 0x7f19eeb32e10>"
            ]
          },
          "metadata": {
            "tags": []
          },
          "execution_count": 53
        },
        {
          "output_type": "display_data",
          "data": {
            "image/png": "[encoded data removed]",
            "text/plain": [
              "<Figure size 432x288 with 1 Axes>"
            ]
          },
          "metadata": {
            "tags": [],
            "needs_background": "light"
          }
        }
      ]
    }
  ]
}