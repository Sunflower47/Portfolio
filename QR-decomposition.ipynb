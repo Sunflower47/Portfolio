{
  "nbformat": 4,
  "nbformat_minor": 0,
  "metadata": {
    "colab": {
      "provenance": [],
      "collapsed_sections": [],
      "authorship_tag": "ABX9TyNTEyl6y3KjSZwKvryZqdUv",
      "include_colab_link": true
    },
    "kernelspec": {
      "name": "python3",
      "display_name": "Python 3"
    }
  },
  "cells": [
    {
      "cell_type": "markdown",
      "metadata": {
        "id": "view-in-github",
        "colab_type": "text"
      },
      "source": [
        "<a href=\"https://colab.research.google.com/github/Sunflower47/Portfolio/blob/main/2.ipynb\" target=\"_parent\"><img src=\"https://colab.research.google.com/assets/colab-badge.svg\" alt=\"Open In Colab\"/></a>"
      ]
    },
    {
      "cell_type": "markdown",
      "source": [
        "#Задание"
      ],
      "metadata": {
        "id": "g_mhyoQNKX_i"
      }
    },
    {
      "cell_type": "markdown",
      "source": [
        "Сгенерировать симметричную матрицу. Найти ее собственные значения. Найти спектр с помощью QR-разложения. Узнать, сколько потребуется итераций, чтобы отклонения от истинных значений было меньше 1%.\n"
      ],
      "metadata": {
        "id": "xAGxkfxRKYSP"
      }
    },
    {
      "cell_type": "markdown",
      "source": [
        "#Код"
      ],
      "metadata": {
        "id": "N43xzeRhKYtp"
      }
    },
    {
      "cell_type": "markdown",
      "source": [
        "##Импорт библиотек"
      ],
      "metadata": {
        "id": "YibB8T4cLIds"
      }
    },
    {
      "cell_type": "code",
      "metadata": {
        "id": "vUMkydo_Houc"
      },
      "source": [
        "import numpy as np\n",
        "import matplotlib.pyplot as plt\n",
        "import math"
      ],
      "execution_count": 1,
      "outputs": []
    },
    {
      "cell_type": "markdown",
      "source": [
        "##Генерация симметричной матрицы"
      ],
      "metadata": {
        "id": "y99_c51SKZfW"
      }
    },
    {
      "cell_type": "code",
      "source": [
        "n = 10\n",
        "a = np.random.normal(0, 1, (n, n))\n",
        "a = a@a.T"
      ],
      "metadata": {
        "id": "8kmVlsa3KZ4D"
      },
      "execution_count": 2,
      "outputs": []
    },
    {
      "cell_type": "markdown",
      "source": [
        "##Нахождение спектра"
      ],
      "metadata": {
        "id": "fpvPAE7_KaTX"
      }
    },
    {
      "cell_type": "code",
      "source": [
        "s = np.linalg.eigvalsh(a)"
      ],
      "metadata": {
        "id": "Y47Q8qfFKedI"
      },
      "execution_count": 3,
      "outputs": []
    },
    {
      "cell_type": "markdown",
      "source": [
        "##Нахождение спектра QR-разложением"
      ],
      "metadata": {
        "id": "paRKESEWKfws"
      }
    },
    {
      "cell_type": "code",
      "metadata": {
        "id": "16q6pQZ1IQZr",
        "outputId": "cbf2c19f-e723-4864-dfaf-d5e4ee4b01e5",
        "colab": {
          "base_uri": "https://localhost:8080/"
        }
      },
      "source": [
        "q, r = np.linalg.qr(a)\n",
        "m = np.amax(s)        #максимальное собственное число\n",
        "\n",
        "a1 = r@q\n",
        "M = np.amax(np.diag(a1))\n",
        "i = 1\n",
        "while abs(1 - m/M) > 0.01:\n",
        "  q, r = np.linalg.qr(a1)\n",
        "  a1 = r@q\n",
        "  M = np.amax(np.diag(a1))\n",
        "  i += 1\n",
        "\n",
        "print('Кол-во итераций: ',i)\n",
        "\n"
      ],
      "execution_count": 5,
      "outputs": [
        {
          "output_type": "stream",
          "name": "stdout",
          "text": [
            "Кол-во итераций:  18\n"
          ]
        }
      ]
    }
  ]
}
